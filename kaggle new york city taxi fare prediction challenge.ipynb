{
 "cells": [
  {
   "cell_type": "code",
   "execution_count": 1,
   "metadata": {},
   "outputs": [
    {
     "name": "stdout",
     "output_type": "stream",
     "text": [
      "['GCP-Coupons-Instructions.rtf', 'sample_submission.csv', 'test.csv', 'train.csv']\n"
     ]
    }
   ],
   "source": [
    "# Initial Python environment setup...\n",
    "import numpy as np # linear algebra\n",
    "import pandas as pd # CSV file I/O (e.g. pd.read_csv)\n",
    "import os # reading the input files we have access to\n",
    "\n",
    "print(os.listdir('../input'))"
   ]
  },
  {
   "cell_type": "code",
   "execution_count": 2,
   "metadata": {},
   "outputs": [
    {
     "data": {
      "text/plain": [
       "key                   object\n",
       "fare_amount          float64\n",
       "pickup_datetime       object\n",
       "pickup_longitude     float64\n",
       "pickup_latitude      float64\n",
       "dropoff_longitude    float64\n",
       "dropoff_latitude     float64\n",
       "passenger_count        int64\n",
       "dtype: object"
      ]
     },
     "execution_count": 2,
     "metadata": {},
     "output_type": "execute_result"
    }
   ],
   "source": [
    "train_df =  pd.read_csv('../input/train.csv',nrows=10_000_000)\n",
    "train_df.dtypes"
   ]
  },
  {
   "cell_type": "code",
   "execution_count": 3,
   "metadata": {},
   "outputs": [
    {
     "data": {
      "text/html": [
       "<div>\n",
       "<style scoped>\n",
       "    .dataframe tbody tr th:only-of-type {\n",
       "        vertical-align: middle;\n",
       "    }\n",
       "\n",
       "    .dataframe tbody tr th {\n",
       "        vertical-align: top;\n",
       "    }\n",
       "\n",
       "    .dataframe thead th {\n",
       "        text-align: right;\n",
       "    }\n",
       "</style>\n",
       "<table border=\"1\" class=\"dataframe\">\n",
       "  <thead>\n",
       "    <tr style=\"text-align: right;\">\n",
       "      <th></th>\n",
       "      <th>key</th>\n",
       "      <th>fare_amount</th>\n",
       "      <th>pickup_datetime</th>\n",
       "      <th>pickup_longitude</th>\n",
       "      <th>pickup_latitude</th>\n",
       "      <th>dropoff_longitude</th>\n",
       "      <th>dropoff_latitude</th>\n",
       "      <th>passenger_count</th>\n",
       "    </tr>\n",
       "  </thead>\n",
       "  <tbody>\n",
       "    <tr>\n",
       "      <th>0</th>\n",
       "      <td>2009-06-15 17:26:21.0000001</td>\n",
       "      <td>4.5</td>\n",
       "      <td>2009-06-15 17:26:21 UTC</td>\n",
       "      <td>-73.844311</td>\n",
       "      <td>40.721319</td>\n",
       "      <td>-73.841610</td>\n",
       "      <td>40.712278</td>\n",
       "      <td>1</td>\n",
       "    </tr>\n",
       "    <tr>\n",
       "      <th>1</th>\n",
       "      <td>2010-01-05 16:52:16.0000002</td>\n",
       "      <td>16.9</td>\n",
       "      <td>2010-01-05 16:52:16 UTC</td>\n",
       "      <td>-74.016048</td>\n",
       "      <td>40.711303</td>\n",
       "      <td>-73.979268</td>\n",
       "      <td>40.782004</td>\n",
       "      <td>1</td>\n",
       "    </tr>\n",
       "    <tr>\n",
       "      <th>2</th>\n",
       "      <td>2011-08-18 00:35:00.00000049</td>\n",
       "      <td>5.7</td>\n",
       "      <td>2011-08-18 00:35:00 UTC</td>\n",
       "      <td>-73.982738</td>\n",
       "      <td>40.761270</td>\n",
       "      <td>-73.991242</td>\n",
       "      <td>40.750562</td>\n",
       "      <td>2</td>\n",
       "    </tr>\n",
       "    <tr>\n",
       "      <th>3</th>\n",
       "      <td>2012-04-21 04:30:42.0000001</td>\n",
       "      <td>7.7</td>\n",
       "      <td>2012-04-21 04:30:42 UTC</td>\n",
       "      <td>-73.987130</td>\n",
       "      <td>40.733143</td>\n",
       "      <td>-73.991567</td>\n",
       "      <td>40.758092</td>\n",
       "      <td>1</td>\n",
       "    </tr>\n",
       "    <tr>\n",
       "      <th>4</th>\n",
       "      <td>2010-03-09 07:51:00.000000135</td>\n",
       "      <td>5.3</td>\n",
       "      <td>2010-03-09 07:51:00 UTC</td>\n",
       "      <td>-73.968095</td>\n",
       "      <td>40.768008</td>\n",
       "      <td>-73.956655</td>\n",
       "      <td>40.783762</td>\n",
       "      <td>1</td>\n",
       "    </tr>\n",
       "  </tbody>\n",
       "</table>\n",
       "</div>"
      ],
      "text/plain": [
       "                             key  fare_amount          pickup_datetime  \\\n",
       "0    2009-06-15 17:26:21.0000001          4.5  2009-06-15 17:26:21 UTC   \n",
       "1    2010-01-05 16:52:16.0000002         16.9  2010-01-05 16:52:16 UTC   \n",
       "2   2011-08-18 00:35:00.00000049          5.7  2011-08-18 00:35:00 UTC   \n",
       "3    2012-04-21 04:30:42.0000001          7.7  2012-04-21 04:30:42 UTC   \n",
       "4  2010-03-09 07:51:00.000000135          5.3  2010-03-09 07:51:00 UTC   \n",
       "\n",
       "   pickup_longitude  pickup_latitude  dropoff_longitude  dropoff_latitude  \\\n",
       "0        -73.844311        40.721319         -73.841610         40.712278   \n",
       "1        -74.016048        40.711303         -73.979268         40.782004   \n",
       "2        -73.982738        40.761270         -73.991242         40.750562   \n",
       "3        -73.987130        40.733143         -73.991567         40.758092   \n",
       "4        -73.968095        40.768008         -73.956655         40.783762   \n",
       "\n",
       "   passenger_count  \n",
       "0                1  \n",
       "1                1  \n",
       "2                2  \n",
       "3                1  \n",
       "4                1  "
      ]
     },
     "execution_count": 3,
     "metadata": {},
     "output_type": "execute_result"
    }
   ],
   "source": [
    "#get a sense how training data looks like\n",
    "train_df[:5]"
   ]
  },
  {
   "cell_type": "code",
   "execution_count": 4,
   "metadata": {},
   "outputs": [],
   "source": [
    "plot = train_df.plot.scatter('passenger_count','fare_amount')"
   ]
  },
  {
   "cell_type": "code",
   "execution_count": 5,
   "metadata": {},
   "outputs": [
    {
     "data": {
      "text/html": [
       "<div>\n",
       "<style scoped>\n",
       "    .dataframe tbody tr th:only-of-type {\n",
       "        vertical-align: middle;\n",
       "    }\n",
       "\n",
       "    .dataframe tbody tr th {\n",
       "        vertical-align: top;\n",
       "    }\n",
       "\n",
       "    .dataframe thead th {\n",
       "        text-align: right;\n",
       "    }\n",
       "</style>\n",
       "<table border=\"1\" class=\"dataframe\">\n",
       "  <thead>\n",
       "    <tr style=\"text-align: right;\">\n",
       "      <th></th>\n",
       "      <th>fare_amount</th>\n",
       "      <th>pickup_longitude</th>\n",
       "      <th>pickup_latitude</th>\n",
       "      <th>dropoff_longitude</th>\n",
       "      <th>dropoff_latitude</th>\n",
       "      <th>passenger_count</th>\n",
       "    </tr>\n",
       "  </thead>\n",
       "  <tbody>\n",
       "    <tr>\n",
       "      <th>count</th>\n",
       "      <td>1.000000e+07</td>\n",
       "      <td>1.000000e+07</td>\n",
       "      <td>1.000000e+07</td>\n",
       "      <td>9.999931e+06</td>\n",
       "      <td>9.999931e+06</td>\n",
       "      <td>1.000000e+07</td>\n",
       "    </tr>\n",
       "    <tr>\n",
       "      <th>mean</th>\n",
       "      <td>1.133854e+01</td>\n",
       "      <td>-7.250775e+01</td>\n",
       "      <td>3.991934e+01</td>\n",
       "      <td>-7.250897e+01</td>\n",
       "      <td>3.991913e+01</td>\n",
       "      <td>1.684793e+00</td>\n",
       "    </tr>\n",
       "    <tr>\n",
       "      <th>std</th>\n",
       "      <td>9.799930e+00</td>\n",
       "      <td>1.299421e+01</td>\n",
       "      <td>9.322539e+00</td>\n",
       "      <td>1.287532e+01</td>\n",
       "      <td>9.237280e+00</td>\n",
       "      <td>1.323423e+00</td>\n",
       "    </tr>\n",
       "    <tr>\n",
       "      <th>min</th>\n",
       "      <td>-1.077500e+02</td>\n",
       "      <td>-3.439245e+03</td>\n",
       "      <td>-3.492264e+03</td>\n",
       "      <td>-3.426601e+03</td>\n",
       "      <td>-3.488080e+03</td>\n",
       "      <td>0.000000e+00</td>\n",
       "    </tr>\n",
       "    <tr>\n",
       "      <th>25%</th>\n",
       "      <td>6.000000e+00</td>\n",
       "      <td>-7.399207e+01</td>\n",
       "      <td>4.073491e+01</td>\n",
       "      <td>-7.399139e+01</td>\n",
       "      <td>4.073403e+01</td>\n",
       "      <td>1.000000e+00</td>\n",
       "    </tr>\n",
       "    <tr>\n",
       "      <th>50%</th>\n",
       "      <td>8.500000e+00</td>\n",
       "      <td>-7.398181e+01</td>\n",
       "      <td>4.075263e+01</td>\n",
       "      <td>-7.398016e+01</td>\n",
       "      <td>4.075316e+01</td>\n",
       "      <td>1.000000e+00</td>\n",
       "    </tr>\n",
       "    <tr>\n",
       "      <th>75%</th>\n",
       "      <td>1.250000e+01</td>\n",
       "      <td>-7.396710e+01</td>\n",
       "      <td>4.076712e+01</td>\n",
       "      <td>-7.396367e+01</td>\n",
       "      <td>4.076810e+01</td>\n",
       "      <td>2.000000e+00</td>\n",
       "    </tr>\n",
       "    <tr>\n",
       "      <th>max</th>\n",
       "      <td>1.273310e+03</td>\n",
       "      <td>3.457626e+03</td>\n",
       "      <td>3.344459e+03</td>\n",
       "      <td>3.457622e+03</td>\n",
       "      <td>3.351403e+03</td>\n",
       "      <td>2.080000e+02</td>\n",
       "    </tr>\n",
       "  </tbody>\n",
       "</table>\n",
       "</div>"
      ],
      "text/plain": [
       "        fare_amount  pickup_longitude  pickup_latitude  dropoff_longitude  \\\n",
       "count  1.000000e+07      1.000000e+07     1.000000e+07       9.999931e+06   \n",
       "mean   1.133854e+01     -7.250775e+01     3.991934e+01      -7.250897e+01   \n",
       "std    9.799930e+00      1.299421e+01     9.322539e+00       1.287532e+01   \n",
       "min   -1.077500e+02     -3.439245e+03    -3.492264e+03      -3.426601e+03   \n",
       "25%    6.000000e+00     -7.399207e+01     4.073491e+01      -7.399139e+01   \n",
       "50%    8.500000e+00     -7.398181e+01     4.075263e+01      -7.398016e+01   \n",
       "75%    1.250000e+01     -7.396710e+01     4.076712e+01      -7.396367e+01   \n",
       "max    1.273310e+03      3.457626e+03     3.344459e+03       3.457622e+03   \n",
       "\n",
       "       dropoff_latitude  passenger_count  \n",
       "count      9.999931e+06     1.000000e+07  \n",
       "mean       3.991913e+01     1.684793e+00  \n",
       "std        9.237280e+00     1.323423e+00  \n",
       "min       -3.488080e+03     0.000000e+00  \n",
       "25%        4.073403e+01     1.000000e+00  \n",
       "50%        4.075316e+01     1.000000e+00  \n",
       "75%        4.076810e+01     2.000000e+00  \n",
       "max        3.351403e+03     2.080000e+02  "
      ]
     },
     "execution_count": 5,
     "metadata": {},
     "output_type": "execute_result"
    }
   ],
   "source": [
    "train_df.describe()"
   ]
  },
  {
   "cell_type": "code",
   "execution_count": 6,
   "metadata": {},
   "outputs": [],
   "source": [
    "# Given a dataframe, add two new features 'abs_diff_longitude' and\n",
    "# 'abs_diff_latitude' reprensenting the \"Manhattan vector\" from\n",
    "# the pickup location to the dropoff location.\n",
    "def add_travel_vector_features(df):\n",
    "    df['abs_diff_longitude'] = (df.dropoff_longitude - df.pickup_longitude).abs()\n",
    "    df['abs_diff_latitude'] = (df.dropoff_latitude - df.pickup_latitude).abs()\n",
    "\n",
    "add_travel_vector_features(train_df)"
   ]
  },
  {
   "cell_type": "code",
   "execution_count": 7,
   "metadata": {},
   "outputs": [
    {
     "name": "stdout",
     "output_type": "stream",
     "text": [
      "Old size: 10000000\n",
      "New size: 9999931\n"
     ]
    }
   ],
   "source": [
    "#Clean NA values\n",
    "print('Old size: %d' % len(train_df))\n",
    "train_df = train_df.dropna(how = 'any', axis = 'rows')\n",
    "print('New size: %d' % len(train_df))"
   ]
  },
  {
   "cell_type": "code",
   "execution_count": 8,
   "metadata": {},
   "outputs": [
    {
     "name": "stdout",
     "output_type": "stream",
     "text": [
      "Old size: 9999931\n",
      "New size: 9979187\n"
     ]
    }
   ],
   "source": [
    "print('Old size: %d' % len(train_df))\n",
    "train_df = train_df[(train_df.abs_diff_longitude < 5.0) & (train_df.abs_diff_latitude < 5.0)]\n",
    "print('New size: %d' % len(train_df))"
   ]
  },
  {
   "cell_type": "code",
   "execution_count": 9,
   "metadata": {},
   "outputs": [
    {
     "name": "stdout",
     "output_type": "stream",
     "text": [
      "Old size: 9979187\n",
      "New size: 9978549\n"
     ]
    }
   ],
   "source": [
    "print('Old size: %d' % len(train_df))\n",
    "train_df = train_df[(train_df.fare_amount > 0)]\n",
    "print('New size: %d' % len(train_df))"
   ]
  },
  {
   "cell_type": "code",
   "execution_count": 10,
   "metadata": {},
   "outputs": [
    {
     "name": "stdout",
     "output_type": "stream",
     "text": [
      "Old size: 9978549\n",
      "New size: 9797235\n"
     ]
    }
   ],
   "source": [
    "print('Old size: %d' % len(train_df))\n",
    "train_df = train_df[(train_df.pickup_longitude != 0) & (train_df.pickup_latitude!=0)]\n",
    "print('New size: %d' % len(train_df))"
   ]
  },
  {
   "cell_type": "code",
   "execution_count": 11,
   "metadata": {},
   "outputs": [
    {
     "name": "stdout",
     "output_type": "stream",
     "text": [
      "Old size: 9797235\n",
      "New size: 9797221\n"
     ]
    }
   ],
   "source": [
    "print('Old size: %d' % len(train_df))\n",
    "train_df = train_df[(train_df.dropoff_longitude != 0) & (train_df.dropoff_latitude!=0)]\n",
    "print('New size: %d' % len(train_df))"
   ]
  },
  {
   "cell_type": "code",
   "execution_count": 12,
   "metadata": {},
   "outputs": [],
   "source": [
    "# Given a dataframe, add two new features 'abs_diff_longitude' and\n",
    "# 'abs_diff_latitude' reprensenting the \"Manhattan vector\" from\n",
    "# the pickup location to the dropoff location.\n",
    "def add_euclid_distance_feature(df):\n",
    "    abs_diff_longitude = (df.dropoff_longitude - df.pickup_longitude)\n",
    "    abs_diff_latitude = (df.dropoff_latitude - df.pickup_latitude)\n",
    "    abs_diff_longitude_square = abs_diff_longitude ** 2\n",
    "    abs_diff_latitude_square = abs_diff_latitude ** 2\n",
    "    df['euclid_dist'] = (abs_diff_longitude_square + abs_diff_latitude_square) ** (1/2)\n",
    "\n",
    "add_euclid_distance_feature(train_df)"
   ]
  },
  {
   "cell_type": "code",
   "execution_count": 13,
   "metadata": {},
   "outputs": [
    {
     "data": {
      "text/html": [
       "<div>\n",
       "<style scoped>\n",
       "    .dataframe tbody tr th:only-of-type {\n",
       "        vertical-align: middle;\n",
       "    }\n",
       "\n",
       "    .dataframe tbody tr th {\n",
       "        vertical-align: top;\n",
       "    }\n",
       "\n",
       "    .dataframe thead th {\n",
       "        text-align: right;\n",
       "    }\n",
       "</style>\n",
       "<table border=\"1\" class=\"dataframe\">\n",
       "  <thead>\n",
       "    <tr style=\"text-align: right;\">\n",
       "      <th></th>\n",
       "      <th>fare_amount</th>\n",
       "      <th>pickup_longitude</th>\n",
       "      <th>pickup_latitude</th>\n",
       "      <th>dropoff_longitude</th>\n",
       "      <th>dropoff_latitude</th>\n",
       "      <th>passenger_count</th>\n",
       "      <th>abs_diff_longitude</th>\n",
       "      <th>abs_diff_latitude</th>\n",
       "      <th>euclid_dist</th>\n",
       "    </tr>\n",
       "  </thead>\n",
       "  <tbody>\n",
       "    <tr>\n",
       "      <th>fare_amount</th>\n",
       "      <td>1.000000</td>\n",
       "      <td>0.005782</td>\n",
       "      <td>-0.004231</td>\n",
       "      <td>0.004879</td>\n",
       "      <td>-0.004082</td>\n",
       "      <td>0.013833</td>\n",
       "      <td>0.710765</td>\n",
       "      <td>0.536288</td>\n",
       "      <td>0.726546</td>\n",
       "    </tr>\n",
       "    <tr>\n",
       "      <th>pickup_longitude</th>\n",
       "      <td>0.005782</td>\n",
       "      <td>1.000000</td>\n",
       "      <td>-0.353907</td>\n",
       "      <td>0.999945</td>\n",
       "      <td>-0.353901</td>\n",
       "      <td>0.005445</td>\n",
       "      <td>0.002789</td>\n",
       "      <td>0.003477</td>\n",
       "      <td>0.003378</td>\n",
       "    </tr>\n",
       "    <tr>\n",
       "      <th>pickup_latitude</th>\n",
       "      <td>-0.004231</td>\n",
       "      <td>-0.353907</td>\n",
       "      <td>1.000000</td>\n",
       "      <td>-0.353907</td>\n",
       "      <td>0.999954</td>\n",
       "      <td>-0.005951</td>\n",
       "      <td>-0.000495</td>\n",
       "      <td>-0.003181</td>\n",
       "      <td>-0.001911</td>\n",
       "    </tr>\n",
       "    <tr>\n",
       "      <th>dropoff_longitude</th>\n",
       "      <td>0.004879</td>\n",
       "      <td>0.999945</td>\n",
       "      <td>-0.353907</td>\n",
       "      <td>1.000000</td>\n",
       "      <td>-0.353897</td>\n",
       "      <td>0.005428</td>\n",
       "      <td>0.002041</td>\n",
       "      <td>0.002850</td>\n",
       "      <td>0.002674</td>\n",
       "    </tr>\n",
       "    <tr>\n",
       "      <th>dropoff_latitude</th>\n",
       "      <td>-0.004082</td>\n",
       "      <td>-0.353901</td>\n",
       "      <td>0.999954</td>\n",
       "      <td>-0.353897</td>\n",
       "      <td>1.000000</td>\n",
       "      <td>-0.005928</td>\n",
       "      <td>-0.000392</td>\n",
       "      <td>-0.003186</td>\n",
       "      <td>-0.001905</td>\n",
       "    </tr>\n",
       "    <tr>\n",
       "      <th>passenger_count</th>\n",
       "      <td>0.013833</td>\n",
       "      <td>0.005445</td>\n",
       "      <td>-0.005951</td>\n",
       "      <td>0.005428</td>\n",
       "      <td>-0.005928</td>\n",
       "      <td>1.000000</td>\n",
       "      <td>0.007301</td>\n",
       "      <td>0.006233</td>\n",
       "      <td>0.007672</td>\n",
       "    </tr>\n",
       "    <tr>\n",
       "      <th>abs_diff_longitude</th>\n",
       "      <td>0.710765</td>\n",
       "      <td>0.002789</td>\n",
       "      <td>-0.000495</td>\n",
       "      <td>0.002041</td>\n",
       "      <td>-0.000392</td>\n",
       "      <td>0.007301</td>\n",
       "      <td>1.000000</td>\n",
       "      <td>0.507669</td>\n",
       "      <td>0.904494</td>\n",
       "    </tr>\n",
       "    <tr>\n",
       "      <th>abs_diff_latitude</th>\n",
       "      <td>0.536288</td>\n",
       "      <td>0.003477</td>\n",
       "      <td>-0.003181</td>\n",
       "      <td>0.002850</td>\n",
       "      <td>-0.003186</td>\n",
       "      <td>0.006233</td>\n",
       "      <td>0.507669</td>\n",
       "      <td>1.000000</td>\n",
       "      <td>0.808833</td>\n",
       "    </tr>\n",
       "    <tr>\n",
       "      <th>euclid_dist</th>\n",
       "      <td>0.726546</td>\n",
       "      <td>0.003378</td>\n",
       "      <td>-0.001911</td>\n",
       "      <td>0.002674</td>\n",
       "      <td>-0.001905</td>\n",
       "      <td>0.007672</td>\n",
       "      <td>0.904494</td>\n",
       "      <td>0.808833</td>\n",
       "      <td>1.000000</td>\n",
       "    </tr>\n",
       "  </tbody>\n",
       "</table>\n",
       "</div>"
      ],
      "text/plain": [
       "                    fare_amount  pickup_longitude  pickup_latitude  \\\n",
       "fare_amount            1.000000          0.005782        -0.004231   \n",
       "pickup_longitude       0.005782          1.000000        -0.353907   \n",
       "pickup_latitude       -0.004231         -0.353907         1.000000   \n",
       "dropoff_longitude      0.004879          0.999945        -0.353907   \n",
       "dropoff_latitude      -0.004082         -0.353901         0.999954   \n",
       "passenger_count        0.013833          0.005445        -0.005951   \n",
       "abs_diff_longitude     0.710765          0.002789        -0.000495   \n",
       "abs_diff_latitude      0.536288          0.003477        -0.003181   \n",
       "euclid_dist            0.726546          0.003378        -0.001911   \n",
       "\n",
       "                    dropoff_longitude  dropoff_latitude  passenger_count  \\\n",
       "fare_amount                  0.004879         -0.004082         0.013833   \n",
       "pickup_longitude             0.999945         -0.353901         0.005445   \n",
       "pickup_latitude             -0.353907          0.999954        -0.005951   \n",
       "dropoff_longitude            1.000000         -0.353897         0.005428   \n",
       "dropoff_latitude            -0.353897          1.000000        -0.005928   \n",
       "passenger_count              0.005428         -0.005928         1.000000   \n",
       "abs_diff_longitude           0.002041         -0.000392         0.007301   \n",
       "abs_diff_latitude            0.002850         -0.003186         0.006233   \n",
       "euclid_dist                  0.002674         -0.001905         0.007672   \n",
       "\n",
       "                    abs_diff_longitude  abs_diff_latitude  euclid_dist  \n",
       "fare_amount                   0.710765           0.536288     0.726546  \n",
       "pickup_longitude              0.002789           0.003477     0.003378  \n",
       "pickup_latitude              -0.000495          -0.003181    -0.001911  \n",
       "dropoff_longitude             0.002041           0.002850     0.002674  \n",
       "dropoff_latitude             -0.000392          -0.003186    -0.001905  \n",
       "passenger_count               0.007301           0.006233     0.007672  \n",
       "abs_diff_longitude            1.000000           0.507669     0.904494  \n",
       "abs_diff_latitude             0.507669           1.000000     0.808833  \n",
       "euclid_dist                   0.904494           0.808833     1.000000  "
      ]
     },
     "execution_count": 13,
     "metadata": {},
     "output_type": "execute_result"
    }
   ],
   "source": [
    "train_df.corr()"
   ]
  },
  {
   "cell_type": "code",
   "execution_count": 14,
   "metadata": {},
   "outputs": [
    {
     "data": {
      "image/png": "[encoded data removed]",
      "text/plain": [
       "<Figure size 432x288 with 1 Axes>"
      ]
     },
     "metadata": {},
     "output_type": "display_data"
    }
   ],
   "source": [
    "plot = train_df.iloc[:10000].plot.scatter('euclid_dist','fare_amount')"
   ]
  },
  {
   "cell_type": "code",
   "execution_count": 15,
   "metadata": {},
   "outputs": [
    {
     "data": {
      "image/png": "[encoded data removed]",
      "text/plain": [
       "<Figure size 432x288 with 1 Axes>"
      ]
     },
     "metadata": {},
     "output_type": "display_data"
    }
   ],
   "source": [
    "#When euclid distance is more than 0.5, you can still fit a line but most of the data points will be away from the line\n",
    "x = train_df[train_df.euclid_dist>0.5]\n",
    "plot = x.iloc[:100].plot.scatter('euclid_dist','fare_amount')"
   ]
  },
  {
   "cell_type": "code",
   "execution_count": 16,
   "metadata": {},
   "outputs": [
    {
     "data": {
      "image/png": "[encoded data removed]",
      "text/plain": [
       "<Figure size 432x288 with 1 Axes>"
      ]
     },
     "metadata": {},
     "output_type": "display_data"
    }
   ],
   "source": [
    "#When euclid distance is less than 0.5, one can fit a line such that most data points will be close to it\n",
    "x = train_df[train_df.euclid_dist<0.5]\n",
    "plot = x.iloc[:10000].plot.scatter('euclid_dist','fare_amount')"
   ]
  },
  {
   "cell_type": "code",
   "execution_count": 17,
   "metadata": {},
   "outputs": [],
   "source": [
    "#Convert pickup date time string to a pandas datetime object\n",
    "\n",
    "from datetime import timedelta, datetime\n",
    "from pandas import DataFrame, Series\n",
    "\n",
    "lines = train_df['pickup_datetime']\n",
    "\n",
    "dt_lst = []\n",
    "\n",
    "for date_str in lines:\n",
    "    dt = datetime.strptime(date_str, '%Y-%m-%d %H:%M:%S UTC')\n",
    "    seconds_since_midnight = int((dt - dt.replace(hour=0, minute=0, second=0, microsecond=0)).total_seconds())\n",
    "    dt_lst.append(seconds_since_midnight)    \n",
    "\n",
    "# Create a Series named \"Request_Time\"\n",
    "sr_dt = Series(dt_lst, name='Second_Of_Day') \n",
    "\n",
    "# Create a DataFrame using the Request_Time Series\n",
    "df = DataFrame(sr_dt)\n",
    "df['fare_amount'] = train_df['fare_amount']\n",
    "df['euclid_dist'] = train_df['euclid_dist']"
   ]
  },
  {
   "cell_type": "code",
   "execution_count": 18,
   "metadata": {},
   "outputs": [
    {
     "data": {
      "text/html": [
       "<div>\n",
       "<style scoped>\n",
       "    .dataframe tbody tr th:only-of-type {\n",
       "        vertical-align: middle;\n",
       "    }\n",
       "\n",
       "    .dataframe tbody tr th {\n",
       "        vertical-align: top;\n",
       "    }\n",
       "\n",
       "    .dataframe thead th {\n",
       "        text-align: right;\n",
       "    }\n",
       "</style>\n",
       "<table border=\"1\" class=\"dataframe\">\n",
       "  <thead>\n",
       "    <tr style=\"text-align: right;\">\n",
       "      <th></th>\n",
       "      <th>Second_Of_Day</th>\n",
       "      <th>fare_amount</th>\n",
       "      <th>euclid_dist</th>\n",
       "    </tr>\n",
       "  </thead>\n",
       "  <tbody>\n",
       "    <tr>\n",
       "      <th>Second_Of_Day</th>\n",
       "      <td>1.000000</td>\n",
       "      <td>-0.000365</td>\n",
       "      <td>-0.000165</td>\n",
       "    </tr>\n",
       "    <tr>\n",
       "      <th>fare_amount</th>\n",
       "      <td>-0.000365</td>\n",
       "      <td>1.000000</td>\n",
       "      <td>0.725529</td>\n",
       "    </tr>\n",
       "    <tr>\n",
       "      <th>euclid_dist</th>\n",
       "      <td>-0.000165</td>\n",
       "      <td>0.725529</td>\n",
       "      <td>1.000000</td>\n",
       "    </tr>\n",
       "  </tbody>\n",
       "</table>\n",
       "</div>"
      ],
      "text/plain": [
       "               Second_Of_Day  fare_amount  euclid_dist\n",
       "Second_Of_Day       1.000000    -0.000365    -0.000165\n",
       "fare_amount        -0.000365     1.000000     0.725529\n",
       "euclid_dist        -0.000165     0.725529     1.000000"
      ]
     },
     "execution_count": 18,
     "metadata": {},
     "output_type": "execute_result"
    }
   ],
   "source": [
    "df.corr()"
   ]
  },
  {
   "cell_type": "code",
   "execution_count": 19,
   "metadata": {},
   "outputs": [
    {
     "data": {
      "image/png": "[encoded data removed]",
      "text/plain": [
       "<Figure size 432x288 with 1 Axes>"
      ]
     },
     "metadata": {},
     "output_type": "display_data"
    }
   ],
   "source": [
    "plot = df.iloc[:10000].plot.scatter('Second_Of_Day','fare_amount')"
   ]
  },
  {
   "cell_type": "code",
   "execution_count": 20,
   "metadata": {},
   "outputs": [
    {
     "data": {
      "image/png": "[encoded data removed]",
      "text/plain": [
       "<Figure size 432x288 with 1 Axes>"
      ]
     },
     "metadata": {},
     "output_type": "display_data"
    }
   ],
   "source": [
    "plot = df.iloc[:10000].plot.scatter('Second_Of_Day','euclid_dist')"
   ]
  },
  {
   "cell_type": "code",
   "execution_count": 21,
   "metadata": {},
   "outputs": [
    {
     "name": "stdout",
     "output_type": "stream",
     "text": [
      "r value 0.7265459653520138\n",
      "p_value 0.0\n",
      "standard deviation 0.04594354813355792\n",
      "slope is: 152.05748221076286\n",
      "r-squared: 0.5278690397692896\n"
     ]
    }
   ],
   "source": [
    "# Model 1 : A simple linear regression model that uses the feature euclidean distance to predict taxi fare\n",
    "import matplotlib.pyplot as plt\n",
    "from scipy import stats\n",
    "\n",
    "xi = train_df['euclid_dist']\n",
    "y = train_df['fare_amount']\n",
    "\n",
    "#Train the model on train data\n",
    "slope, intercept, r_value, p_value, std_err = stats.linregress(xi,y)\n",
    "\n",
    "print ('r value', r_value)\n",
    "print  ('p_value', p_value)\n",
    "print ('standard deviation', std_err)\n",
    "print ('slope is:', slope)\n",
    "print (\"r-squared:\", r_value**2)\n",
    "\n",
    "#Check the model fit\n",
    "#plt.plot(xi, y, 'o', label='original data')\n",
    "#plt.plot(xi, intercept + slope*xi, 'r', label='fitted line')\n",
    "#plt.legend()\n",
    "#plt.show()"
   ]
  },
  {
   "cell_type": "code",
   "execution_count": 22,
   "metadata": {},
   "outputs": [
    {
     "name": "stdout",
     "output_type": "stream",
     "text": [
      "['.ipynb_checkpoints', 'best score.JPG', 'distance vs fare.png', 'kaggle new york city taxi fare prediction challenge.ipynb', 'kaggle new york city taxi fare prediction challenge.pdf', 'kaggle new york city taxi fare prediction challenge.py', 'special - distance vs fare.png', 'submission.csv', 'time of day vs distance.png', 'time of day vs fare.png']\n"
     ]
    }
   ],
   "source": [
    "#Test the model on test data\n",
    "test_df = pd.read_csv('../input/test.csv')\n",
    "add_euclid_distance_feature(test_df)\n",
    "\n",
    "xi = test_df['euclid_dist']\n",
    "\n",
    "test_y_predictions=[]\n",
    "for x in xi:\n",
    "    y = round(slope*x + intercept, 2)    \n",
    "    test_y_predictions.append(y)\n",
    "\n",
    "# Write the predictions to a CSV file which we can submit to the competition.\n",
    "submission = pd.DataFrame(\n",
    "    {'key': test_df.key, 'fare_amount': test_y_predictions},\n",
    "    columns = ['key', 'fare_amount'])\n",
    "submission.to_csv('submission.csv', index = False)\n",
    "\n",
    "print(os.listdir('.'))"
   ]
  },
  {
   "cell_type": "code",
   "execution_count": 23,
   "metadata": {},
   "outputs": [
    {
     "name": "stdout",
     "output_type": "stream",
     "text": [
      "explained variance scores for k=10 fold validation: [0.66106363 0.68731691 0.64530205 0.66802214 0.67827483 0.69672725\n",
      " 0.70530754 0.69416429 0.69226933 0.6774113 ]\n",
      "Est. explained variance: 0.68 (+/- 0.03)\n"
     ]
    },
    {
     "data": {
      "text/plain": [
       "RandomForestRegressor(bootstrap=True, criterion='mse', max_depth=None,\n",
       "           max_features='auto', max_leaf_nodes=None,\n",
       "           min_impurity_decrease=0.0, min_impurity_split=None,\n",
       "           min_samples_leaf=1, min_samples_split=2,\n",
       "           min_weight_fraction_leaf=0.0, n_estimators=10, n_jobs=1,\n",
       "           oob_score=False, random_state=None, verbose=0, warm_start=False)"
      ]
     },
     "execution_count": 23,
     "metadata": {},
     "output_type": "execute_result"
    }
   ],
   "source": [
    "# Model 2 : Use random forest regressor model that uses the feature euclidean distance to predict taxi fare\n",
    "from sklearn.ensemble import RandomForestRegressor as rfr\n",
    "from sklearn.model_selection import cross_val_score\n",
    "# build the model with the desired parameters...\n",
    "numFeatures = 1 # the number of features to inlcude\n",
    "train_df_mini = train_df[:1000000]\n",
    "trees = 10 # trees in the forest\n",
    "included_features = ['euclid_dist']\n",
    "# define the training data X...\n",
    "X = train_df_mini[included_features]\n",
    "Y = train_df_mini[['fare_amount']]\n",
    "yt = [i for i in Y['fare_amount']]\n",
    "np.random.seed(11111)\n",
    "model = rfr(n_estimators=trees,max_depth=None)\n",
    "scores_rfr = cross_val_score(model,X,yt,cv=10,scoring='explained_variance')\n",
    "print('explained variance scores for k=10 fold validation:',scores_rfr)\n",
    "print(\"Est. explained variance: %0.2f (+/- %0.2f)\" % (scores_rfr.mean(), scores_rfr.std() * 2))\n",
    "# fit the model\n",
    "model.fit(X,yt)"
   ]
  },
  {
   "cell_type": "code",
   "execution_count": 24,
   "metadata": {},
   "outputs": [
    {
     "name": "stdout",
     "output_type": "stream",
     "text": [
      "[ 8.44973482  9.0342475   4.74166667 ... 42.648      21.472\n",
      "  6.15284377]\n"
     ]
    }
   ],
   "source": [
    "# apply the model to the test data and get the output...\n",
    "X_test = test_df[included_features]\n",
    "y_output = model.predict(X_test.fillna(0)) # get the results and fill nan's with 0\n",
    "print(y_output)\n",
    "\n",
    "test_y_predictions=[]\n",
    "for elem in y_output:\n",
    "    test_y_predictions.append(round(elem,2))"
   ]
  },
  {
   "cell_type": "code",
   "execution_count": 25,
   "metadata": {},
   "outputs": [
    {
     "name": "stdout",
     "output_type": "stream",
     "text": [
      "['.ipynb_checkpoints', 'best score.JPG', 'distance vs fare.png', 'kaggle new york city taxi fare prediction challenge.ipynb', 'kaggle new york city taxi fare prediction challenge.pdf', 'kaggle new york city taxi fare prediction challenge.py', 'special - distance vs fare.png', 'submission.csv', 'time of day vs distance.png', 'time of day vs fare.png']\n"
     ]
    }
   ],
   "source": [
    "# Write the predictions to a CSV file which we can submit to the competition.\n",
    "submission = pd.DataFrame(\n",
    "    {'key': test_df.key, 'fare_amount': test_y_predictions},\n",
    "    columns = ['key', 'fare_amount'])\n",
    "submission.to_csv('submission.csv', index = False)\n",
    "\n",
    "print(os.listdir('.'))"
   ]
  },
  {
   "cell_type": "code",
   "execution_count": 26,
   "metadata": {},
   "outputs": [
    {
     "name": "stdout",
     "output_type": "stream",
     "text": [
      "Load data...\n"
     ]
    }
   ],
   "source": [
    "# Model 3 : Use LightGBM decision tree model that uses multiple features to predict taxi fare\n",
    "import lightgbm as lgb\n",
    "# load or create your dataset\n",
    "print('Load data...')\n",
    "\n",
    "included_features = ['euclid_dist','passenger_count','pickup_latitude','pickup_longitude','dropoff_latitude','dropoff_longitude']\n",
    "train_X = train_df[included_features]\n",
    "train_y = train_df['fare_amount']\n",
    "\n",
    "params = {\n",
    "        'nthread': -1,  \n",
    "    }\n",
    "#Default Parameters\n",
    "\n",
    "train_set = lgb.Dataset(train_X, train_y, silent=True)\n",
    "model3 = lgb.train(params, train_set = train_set, num_boost_round=300)"
   ]
  },
  {
   "cell_type": "code",
   "execution_count": 27,
   "metadata": {},
   "outputs": [
    {
     "name": "stdout",
     "output_type": "stream",
     "text": [
      "Start predicting...\n"
     ]
    }
   ],
   "source": [
    "model3.save_model('modellgbm.txt')\n",
    "print('Start predicting...')\n",
    "X_test = test_df[included_features] \n",
    "# predict\n",
    "y_pred = model3.predict(X_test, num_iteration=model3.best_iteration)"
   ]
  },
  {
   "cell_type": "code",
   "execution_count": 28,
   "metadata": {},
   "outputs": [
    {
     "name": "stdout",
     "output_type": "stream",
     "text": [
      "['.ipynb_checkpoints', 'best score.JPG', 'distance vs fare.png', 'kaggle new york city taxi fare prediction challenge.ipynb', 'kaggle new york city taxi fare prediction challenge.pdf', 'kaggle new york city taxi fare prediction challenge.py', 'modellgbm.txt', 'special - distance vs fare.png', 'submission.csv', 'time of day vs distance.png', 'time of day vs fare.png']\n"
     ]
    }
   ],
   "source": [
    "test_y_predictions=[]\n",
    "for elem in y_pred:\n",
    "    test_y_predictions.append(round(elem,2))\n",
    "    \n",
    "# Write the predictions to a CSV file which we can submit to the competition.\n",
    "submission = pd.DataFrame(\n",
    "    {'key': test_df.key, 'fare_amount': test_y_predictions},\n",
    "    columns = ['key', 'fare_amount'])\n",
    "submission.to_csv('submission.csv', index = False)\n",
    "\n",
    "print(os.listdir('.'))"
   ]
  },
  {
   "cell_type": "code",
   "execution_count": null,
   "metadata": {},
   "outputs": [],
   "source": []
  }
 ],
 "metadata": {
  "kernelspec": {
   "display_name": "Python 3",
   "language": "python",
   "name": "python3"
  },
  "language_info": {
   "codemirror_mode": {
    "name": "ipython",
    "version": 3
   },
   "file_extension": ".py",
   "mimetype": "text/x-python",
   "name": "python",
   "nbconvert_exporter": "python",
   "pygments_lexer": "ipython3",
   "version": "3.6.5"
  }
 },
 "nbformat": 4,
 "nbformat_minor": 2
}
